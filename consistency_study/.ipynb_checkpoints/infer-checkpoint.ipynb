{
 "cells": [
  {
   "cell_type": "code",
   "execution_count": 1,
   "id": "7de51849-7026-413d-bd82-20e2984bbea1",
   "metadata": {},
   "outputs": [
    {
     "name": "stderr",
     "output_type": "stream",
     "text": [
      "/root/miniconda3/lib/python3.10/site-packages/diffusers/models/transformers/transformer_2d.py:34: FutureWarning: `Transformer2DModelOutput` is deprecated and will be removed in version 1.0.0. Importing `Transformer2DModelOutput` from `diffusers.models.transformer_2d` is deprecated and this will be removed in a future version. Please use `from diffusers.models.modeling_outputs import Transformer2DModelOutput`, instead.\n",
      "  deprecate(\"Transformer2DModelOutput\", \"1.0.0\", deprecation_message)\n"
     ]
    }
   ],
   "source": [
    "import os, torch\n",
    "# from PIL import Image\n",
    "from kolors.pipelines.pipeline_stable_diffusion_xl_chatglm_256 import StableDiffusionXLPipeline\n",
    "from kolors.models.modeling_chatglm import ChatGLMModel\n",
    "from kolors.models.tokenization_chatglm import ChatGLMTokenizer\n",
    "from diffusers import UNet2DConditionModel, AutoencoderKL\n",
    "from diffusers import EulerDiscreteScheduler"
   ]
  },
  {
   "cell_type": "code",
   "execution_count": 3,
   "id": "308425d0-3fcd-49ff-a4af-e0fd4abeb7f3",
   "metadata": {},
   "outputs": [
    {
     "data": {
      "application/vnd.jupyter.widget-view+json": {
       "model_id": "f5e0cf254a104874b2e228eaf29249ab",
       "version_major": 2,
       "version_minor": 0
      },
      "text/plain": [
       "Loading checkpoint shards:   0%|          | 0/7 [00:00<?, ?it/s]"
      ]
     },
     "metadata": {},
     "output_type": "display_data"
    }
   ],
   "source": [
    "# Kolors Model Path\n",
    "KMP = \"/data/model/weights/Kolors\"\n",
    "# load models\n",
    "text_encoder = ChatGLMModel.from_pretrained(f\"{KMP}/text_encoder\", torch_dtype=torch.float16).half()\n",
    "tokenizer = ChatGLMTokenizer.from_pretrained(f'{KMP}/text_encoder')\n",
    "vae = AutoencoderKL.from_pretrained(f\"{KMP}/vae\", revision=None).half()\n",
    "scheduler = EulerDiscreteScheduler.from_pretrained(f\"{KMP}/scheduler\")\n",
    "unet = UNet2DConditionModel.from_pretrained(f\"{KMP}/unet\", revision=None).half()"
   ]
  },
  {
   "cell_type": "code",
   "execution_count": 4,
   "id": "4d198eb0-2ad0-4320-9d06-7f30a16ec7ac",
   "metadata": {},
   "outputs": [],
   "source": [
    "# sd pipeline\n",
    "pipe = StableDiffusionXLPipeline(\n",
    "            vae=vae,\n",
    "            text_encoder=text_encoder,\n",
    "            tokenizer=tokenizer,\n",
    "            unet=unet,\n",
    "            scheduler=scheduler,\n",
    "            force_zeros_for_empty_prompt=False)\n",
    "pipe = pipe.to(\"cuda\")\n",
    "pipe.enable_model_cpu_offload()\n",
    "\n"
   ]
  },
  {
   "cell_type": "code",
   "execution_count": 5,
   "id": "b424f9cd-c58f-4f1b-ba4c-0fe256b4aea6",
   "metadata": {},
   "outputs": [],
   "source": [
    "# generate\n",
    "def gen(prompt, height=1024, width=1024,\n",
    "        num_inference_steps=50, guidance_scale=5.0, num_images_per_prompt=1,\n",
    "        generator= torch.Generator(pipe.device).manual_seed(66)):\n",
    "    return pipe(prompt=prompt, height=height, width=width, num_inference_steps=num_inference_steps,\n",
    "                guidance_scale=guidance_scale, num_images_per_prompt=num_images_per_prompt, generator=generator)\n",
    "    \n"
   ]
  },
  {
   "cell_type": "code",
   "execution_count": null,
   "id": "72c5c6b8-462a-4923-848d-53e4fc986411",
   "metadata": {},
   "outputs": [
    {
     "data": {
      "application/vnd.jupyter.widget-view+json": {
       "model_id": "55021134ac1445e894a7025b72bb76dd",
       "version_major": 2,
       "version_minor": 0
      },
      "text/plain": [
       "  0%|          | 0/50 [00:00<?, ?it/s]"
      ]
     },
     "metadata": {},
     "output_type": "display_data"
    }
   ],
   "source": [
    "# testing\n",
    "gen(prompt=\"成龙大哥拜年\").images[0].show()"
   ]
  }
 ],
 "metadata": {
  "kernelspec": {
   "display_name": "Python 3 (ipykernel)",
   "language": "python",
   "name": "python3"
  },
  "language_info": {
   "codemirror_mode": {
    "name": "ipython",
    "version": 3
   },
   "file_extension": ".py",
   "mimetype": "text/x-python",
   "name": "python",
   "nbconvert_exporter": "python",
   "pygments_lexer": "ipython3",
   "version": "3.10.8"
  }
 },
 "nbformat": 4,
 "nbformat_minor": 5
}
